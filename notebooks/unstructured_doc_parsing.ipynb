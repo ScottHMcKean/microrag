{
 "cells": [
  {
   "cell_type": "markdown",
   "metadata": {},
   "source": [
    "This notebook covers testing of the Unstructured library for parsing documents as part of the MicroRAG experiment. The goal of Microrag is to test the ability of retrieval augmented generation (RAG) to produce specialized engineering reports. Since I have a couple degrees in geotechnical engineering, I thought it would be nice to try and produce something useful for my faculty, so let's start there.\n",
    "\n",
    "We are going to use a Raw - Refined - Produced data extraction pattern"
   ]
  },
  {
   "cell_type": "code",
   "execution_count": null,
   "metadata": {},
   "outputs": [],
   "source": [
    "from pathlib import Path\n",
    "from unstructured.partition.auto import partition\n",
    "\n",
    "raw_geotech_reports_path = Path('/home/smckean/Raw/geotechical_reports')\n",
    "report = next(raw_geotech_reports_path.glob('*.pdf'))\n",
    "\n",
    "print(report.name)\n",
    "elements = partition(filename=report)\n",
    "print(\"\\n\\n\".join([str(el) for el in elements]))"
   ]
  },
  {
   "cell_type": "code",
   "execution_count": 18,
   "metadata": {},
   "outputs": [
    {
     "data": {
      "text/plain": [
       "'PROJECT NO.: RD2894 BH LOCATION:'"
      ]
     },
     "execution_count": 18,
     "metadata": {},
     "output_type": "execute_result"
    }
   ],
   "source": [
    "elements[518].text"
   ]
  },
  {
   "cell_type": "code",
   "execution_count": 21,
   "metadata": {},
   "outputs": [],
   "source": [
    "from unstructured.partition.pdf import partition_pdf_or_image\n",
    "\n",
    "scanned_doc = raw_geotech_reports_path / '061105_ISSC002GeotechnicalInvestigationSpec_PetroCanada.pdf'\n",
    "elements = partition_pdf_or_image(scanned_doc, languages=['eng'])"
   ]
  },
  {
   "cell_type": "code",
   "execution_count": 25,
   "metadata": {},
   "outputs": [
    {
     "name": "stderr",
     "output_type": "stream",
     "text": [
      "/home/smckean/Repos/microrag/microrag_env/lib/python3.10/site-packages/huggingface_hub/file_download.py:1132: FutureWarning: `resume_download` is deprecated and will be removed in version 1.0.0. Downloads always resume when possible. If you want to force a new download, use `force_download=True`.\n",
      "  warnings.warn(\n"
     ]
    }
   ],
   "source": [
    "from transformers import AutoTokenizer, AutoModelForTokenClassification\n",
    "from transformers import pipeline\n",
    "\n",
    "from unstructured.documents.elements import NarrativeText\n",
    "from unstructured.staging.huggingface import stage_for_transformers\n",
    "\n",
    "model_name = \"hf-internal-testing/tiny-bert-for-token-classification\"\n",
    "tokenizer = AutoTokenizer.from_pretrained(model_name)\n",
    "model = AutoModelForTokenClassification.from_pretrained(model_name)\n",
    "\n",
    "nlp = pipeline(\"ner\", model=model, tokenizer=tokenizer)\n",
    "tf_staged = stage_for_transformers(elements, tokenizer)"
   ]
  },
  {
   "cell_type": "code",
   "execution_count": null,
   "metadata": {},
   "outputs": [],
   "source": []
  },
  {
   "cell_type": "code",
   "execution_count": 42,
   "metadata": {},
   "outputs": [
    {
     "data": {
      "text/plain": [
       "'The report shall include all field data, laboratory test results, and the resulting interpretations and recommendations. All testing, interpretation of results and recommendations shall be completed under the direct supervision of a practicing Professional Engineer registered in the Province of Alberta. 3.0 LOCATION (GENERAL) See SPS-C-002 for specific project details. 4.0 DRILLING AND SAMPLING'"
      ]
     },
     "execution_count": 42,
     "metadata": {},
     "output_type": "execute_result"
    }
   ],
   "source": [
    "from unstructured.chunking.basic import chunk_elements\n",
    "chunk_elements(elements)[8].text"
   ]
  },
  {
   "cell_type": "code",
   "execution_count": null,
   "metadata": {},
   "outputs": [],
   "source": [
    "# Use this to store the document as a json file in refined (to reproduce the process)\n",
    "from unstructured.staging.base import convert_to_dict\n",
    "convert_to_dict(elements)"
   ]
  },
  {
   "cell_type": "code",
   "execution_count": 53,
   "metadata": {},
   "outputs": [
    {
     "name": "stderr",
     "output_type": "stream",
     "text": [
      "No sentence-transformers model found with name bert-base-uncased. Creating a new one with MEAN pooling.\n",
      "/home/smckean/Repos/microrag/microrag_env/lib/python3.10/site-packages/huggingface_hub/file_download.py:1132: FutureWarning: `resume_download` is deprecated and will be removed in version 1.0.0. Downloads always resume when possible. If you want to force a new download, use `force_download=True`.\n",
      "  warnings.warn(\n"
     ]
    }
   ],
   "source": [
    "from unstructured.embed.huggingface import HuggingFaceEmbeddingEncoder, HuggingFaceEmbeddingConfig\n",
    "config = HuggingFaceEmbeddingConfig(model_name=\"bert-base-uncased\")\n",
    "embedder = HuggingFaceEmbeddingEncoder(config)\n",
    "embedded = embedder.embed_documents(elements)"
   ]
  },
  {
   "cell_type": "code",
   "execution_count": 54,
   "metadata": {},
   "outputs": [
    {
     "data": {
      "text/plain": [
       "768"
      ]
     },
     "execution_count": 54,
     "metadata": {},
     "output_type": "execute_result"
    }
   ],
   "source": [
    "len(embedded[0].embeddings)"
   ]
  }
 ],
 "metadata": {
  "kernelspec": {
   "display_name": "microrag_env",
   "language": "python",
   "name": "python3"
  },
  "language_info": {
   "codemirror_mode": {
    "name": "ipython",
    "version": 3
   },
   "file_extension": ".py",
   "mimetype": "text/x-python",
   "name": "python",
   "nbconvert_exporter": "python",
   "pygments_lexer": "ipython3",
   "version": "3.10.12"
  }
 },
 "nbformat": 4,
 "nbformat_minor": 2
}
