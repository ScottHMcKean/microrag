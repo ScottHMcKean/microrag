{
 "cells": [
  {
   "cell_type": "code",
   "execution_count": 2,
   "metadata": {},
   "outputs": [],
   "source": [
    "import requests\n",
    "from bs4 import BeautifulSoup\n",
    "import urllib.parse\n",
    "import os\n"
   ]
  },
  {
   "cell_type": "code",
   "execution_count": 3,
   "metadata": {},
   "outputs": [],
   "source": [
    "def search_google_scholar(query):\n",
    "    base_url = \"https://scholar.google.com\"\n",
    "    search_url = base_url + \"/scholar?q=\" + urllib.parse.quote_plus(query)\n",
    "    headers = {\n",
    "        'User-Agent': 'Mozilla/5.0 (Windows NT 10.0; Win64; x64) AppleWebKit/537.36 (KHTML, like Gecko) Chrome/58.0.3029.110 Safari/537.3'}\n",
    "    response = requests.get(search_url, headers=headers)\n",
    "    if response.status_code == 200:\n",
    "        return response.text\n",
    "    else:\n",
    "        return None"
   ]
  },
  {
   "cell_type": "code",
   "execution_count": 6,
   "metadata": {},
   "outputs": [],
   "source": [
    "search_results = search_google_scholar('geomechanics of geothermal reservoirs')"
   ]
  },
  {
   "cell_type": "code",
   "execution_count": 5,
   "metadata": {},
   "outputs": [],
   "source": [
    "def parse_search_results(html):\n",
    "    soup = BeautifulSoup(html, 'html.parser')\n",
    "    results = []\n",
    "    for result in soup.find_all('div', class_='gs_ri'):\n",
    "        title = result.find('h3', class_='gs_rt').text\n",
    "        link = result.find('a')['href']\n",
    "        results.append((title, link))\n",
    "    return results"
   ]
  },
  {
   "cell_type": "code",
   "execution_count": 8,
   "metadata": {},
   "outputs": [],
   "source": [
    "parsed_results = parse_search_results(search_results)"
   ]
  },
  {
   "cell_type": "code",
   "execution_count": 16,
   "metadata": {},
   "outputs": [
    {
     "data": {
      "text/plain": [
       "'https://www.sciencedirect.com/science/article/pii/S092041051300106X'"
      ]
     },
     "execution_count": 16,
     "metadata": {},
     "output_type": "execute_result"
    }
   ],
   "source": [
    "url = parsed_results[2][1]\n",
    "if 'sciencedirect' in url:\n",
    "    pass\n",
    "url"
   ]
  },
  {
   "cell_type": "code",
   "execution_count": 17,
   "metadata": {},
   "outputs": [
    {
     "name": "stdout",
     "output_type": "stream",
     "text": [
      "Failed to fetch the article page\n",
      "Failed to extract PDF download link\n"
     ]
    }
   ],
   "source": [
    "import requests\n",
    "from bs4 import BeautifulSoup\n",
    "\n",
    "\n",
    "\n",
    "def extract_pdf_link(article_url):\n",
    "    # Send a GET request to the article URL\n",
    "    response = requests.get(article_url)\n",
    "    if response.status_code != 200:\n",
    "        print(\"Failed to fetch the article page\")\n",
    "        return None\n",
    "\n",
    "    # Parse the HTML content\n",
    "    soup = BeautifulSoup(response.text, 'html.parser')\n",
    "\n",
    "    # Find the \"view PDF\" button element\n",
    "    pdf_button = soup.find('a', class_='PdfReaderLink')\n",
    "    if pdf_button:\n",
    "        # Extract the link from the button's href attribute\n",
    "        pdf_link = pdf_button['href']\n",
    "        return pdf_link\n",
    "    else:\n",
    "        print(\"PDF button not found\")\n",
    "        return None\n",
    "\n",
    "# Example usage:\n",
    "article_url = 'https://www.sciencedirect.com/science/article/pii/S092041051300106X'\n",
    "pdf_link = extract_pdf_link(article_url)\n",
    "if pdf_link:\n",
    "    print(\"PDF Download Link:\", pdf_link)\n",
    "else:\n",
    "    print(\"Failed to extract PDF download link\")"
   ]
  },
  {
   "cell_type": "code",
   "execution_count": 23,
   "metadata": {},
   "outputs": [
    {
     "ename": "ModuleNotFoundError",
     "evalue": "No module named 'pycurl'",
     "output_type": "error",
     "traceback": [
      "\u001b[0;31m---------------------------------------------------------------------------\u001b[0m",
      "\u001b[0;31mModuleNotFoundError\u001b[0m                       Traceback (most recent call last)",
      "Cell \u001b[0;32mIn[23], line 7\u001b[0m\n\u001b[1;32m      5\u001b[0m \u001b[38;5;28;01mimport\u001b[39;00m \u001b[38;5;21;01mos\u001b[39;00m\n\u001b[1;32m      6\u001b[0m \u001b[38;5;28;01mimport\u001b[39;00m \u001b[38;5;21;01mre\u001b[39;00m\n\u001b[0;32m----> 7\u001b[0m \u001b[38;5;28;01mimport\u001b[39;00m \u001b[38;5;21;01mpycurl\u001b[39;00m\n\u001b[1;32m      8\u001b[0m \u001b[38;5;66;03m#from BeautifulSoup import BeautifulSoup\u001b[39;00m\n\u001b[1;32m      9\u001b[0m \u001b[38;5;28;01mfrom\u001b[39;00m \u001b[38;5;21;01mlxml\u001b[39;00m \u001b[38;5;28;01mimport\u001b[39;00m etree\n",
      "\u001b[0;31mModuleNotFoundError\u001b[0m: No module named 'pycurl'"
     ]
    }
   ],
   "source": [
    "#!/usr/bin/python\n",
    "#author: Bryan Bishop <kanzure@gmail.com>\n",
    "#date: 2010-03-03\n",
    "#purpose: given a link on the command line to sciencedirect.com, download the associated PDF and put it in \"sciencedirect.pdf\" or something\n",
    "import os\n",
    "import re\n",
    "import pycurl\n",
    "#from BeautifulSoup import BeautifulSoup\n",
    "from lxml import etree\n",
    "import lxml.html\n",
    "from StringIO import StringIO\n",
    "from string import join, split\n",
    "\n",
    "user_agent = \"Mozilla/5.0 (X11; U; Linux i686; en-US; rv:1.9.1.5) Gecko/20091123 Iceweasel/3.5.5 (like Firefox/3.5.5; Debian-3.5.5-1)\"\n",
    "\n",
    "def interscience(url):\n",
    "    '''downloads the PDF from sciencedirect given a link to an article'''\n",
    "    url = str(url)\n",
    "    buffer = StringIO()\n",
    "\n",
    "    curl = pycurl.Curl()\n",
    "    curl.setopt(curl.URL, url)\n",
    "    curl.setopt(curl.WRITEFUNCTION, buffer.write)\n",
    "    curl.setopt(curl.VERBOSE, 0)\n",
    "    curl.setopt(curl.USERAGENT, user_agent)\n",
    "    curl.setopt(curl.TIMEOUT, 20)\n",
    "    curl.perform()\n",
    "    curl.close()\n",
    "\n",
    "    buffer = buffer.getvalue().strip()\n",
    "    html = lxml.html.parse(StringIO(buffer))\n",
    "\n",
    "    pdf_href = []\n",
    "    for item in html.getroot().iter('a'):\n",
    "        if (('id' in item.attrib) and  ('href' in item.attrib) and item.attrib['id']=='pdfLink'):\n",
    "            pdf_href.append(item.attrib['href'])\n",
    "\n",
    "\n",
    "    pdf_href = pdf_href[0]\n",
    "    #now let's get the article title\n",
    "\n",
    "    title_div = html.find(\"head/title\")\n",
    "    paper_title = title_div.text\n",
    "    paper_title = paper_title.replace(\"\\n\", \"\")\n",
    "    if paper_title[-1] == \" \": paper_title = paper_title[:-1]\n",
    "    re.sub('[^a-zA-Z0-9_\\-.() ]+', '', paper_title)\n",
    "    paper_title = paper_title.strip()\n",
    "    paper_title = re.sub(' ','_',paper_title)\n",
    "\n",
    "    #now fetch the document for the user\n",
    "    command = \"wget --user-agent=\\\"pyscholar/blah\\\" --output-document=\\\"%s.pdf\\\" \\\"%s\\\"\" % (paper_title, pdf_href)\n",
    "    os.system(command)\n",
    "\n",
    "interscience(\"http://www.sciencedirect.com/science/article/pii/S0163638307000628\")"
   ]
  },
  {
   "cell_type": "code",
   "execution_count": 20,
   "metadata": {},
   "outputs": [
    {
     "data": {
      "text/plain": [
       "<Response [403]>"
      ]
     },
     "execution_count": 20,
     "metadata": {},
     "output_type": "execute_result"
    }
   ],
   "source": [
    "\n",
    "user_agent = \"Mozilla/5.0 (X11; U; Linux i686; en-US; rv:1.9.1.5) Gecko/20091123 Iceweasel/3.5.5 (like Firefox/3.5.5; Debian-3.5.5-1)\"\n",
    "\n",
    "response = requests.get(article_url)\n",
    "response"
   ]
  }
 ],
 "metadata": {
  "kernelspec": {
   "display_name": "microrag_env",
   "language": "python",
   "name": "python3"
  },
  "language_info": {
   "codemirror_mode": {
    "name": "ipython",
    "version": 3
   },
   "file_extension": ".py",
   "mimetype": "text/x-python",
   "name": "python",
   "nbconvert_exporter": "python",
   "pygments_lexer": "ipython3",
   "version": "3.10.12"
  }
 },
 "nbformat": 4,
 "nbformat_minor": 2
}
